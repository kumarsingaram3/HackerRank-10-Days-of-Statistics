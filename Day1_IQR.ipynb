{
 "cells": [
  {
   "cell_type": "markdown",
   "metadata": {},
   "source": [
    "### Task\n",
    "\n",
    "The interquartile range of an array is the difference between its first (Q1) and third (Q3) quartiles (i.e., Q3 - Q1). Given an array, X, of n integers and an array, F, representing the respective frequencies of X's elements, construct a data set, S, where each Xi occurs at frequency Fi. Then calculate and print S's interquartile range, rounded to a scale of  decimal place (i.e., 12.3 format). More detail on this problem can be found here:\n",
    "\n",
    "https://www.hackerrank.com/challenges/s10-interquartile-range/problem"
   ]
  },
  {
   "cell_type": "markdown",
   "metadata": {},
   "source": [
    "**Intro**\n",
    "\n",
    "To solve for the interquartile range of a data set, we need to get the median of the third quartile (Q3) and subtract the median of the first quartile (Q1). We're given the input below. The expected output of this, if done manually is 9.0. We need to build a test case that not only works for this scenario, but also for any other scenario given to our script."
   ]
  },
  {
   "cell_type": "code",
   "execution_count": 16,
   "metadata": {},
   "outputs": [],
   "source": [
    "#set input\n",
    "\n",
    "N = 5\n",
    "X = [10, 40, 30, 50, 20]\n",
    "F = [1, 2, 3, 4, 5]"
   ]
  },
  {
   "cell_type": "markdown",
   "metadata": {},
   "source": [
    "The values of the list F, are frequencies that must be applied to our list, X. To do this, we can create a simple one liner list comprehension that zips together X and F and multiplies the elements in X, using the frequencies in F."
   ]
  },
  {
   "cell_type": "code",
   "execution_count": 17,
   "metadata": {},
   "outputs": [],
   "source": [
    "#create sorted list comprehension\n",
    "#set N to length of the new list\n",
    "\n",
    "X = sorted([i for l in ([x]*f for x, f in zip(X, F)) for i in l])\n",
    "N = len(X)"
   ]
  },
  {
   "cell_type": "markdown",
   "metadata": {},
   "source": [
    "We also need a median function, as we can't use numpy for this exercise. To calculate the median, we need an odd and even scenario. Remember with a median, when we're dealing with an even list of values, we have to take the average of the middle two values in a sorted list to get the median. "
   ]
  },
  {
   "cell_type": "code",
   "execution_count": 18,
   "metadata": {},
   "outputs": [],
   "source": [
    "#create even scenario, where an average of the middle two numbers is taken\n",
    "#create an odd scenario\n",
    "\n",
    "def median(X, N):\n",
    "    if N % 2 == 0:\n",
    "        median1 = X[N//2]\n",
    "        median2 = X[N//2 - 1]\n",
    "        median = (median1 + median2)/2\n",
    "    else:\n",
    "        median = X[N//2]\n",
    "    return median"
   ]
  },
  {
   "cell_type": "markdown",
   "metadata": {},
   "source": [
    "Similar to how the median function has two scenarios, we can do the same to calculate the quartiles. The if-else statement below starts with an odd scenario and then defaults to an even scenario if the odd scenario is not true for the input provided. \n",
    "\n",
    "In the case of an odd scenario, the median is a single value, which we can simply remove from the list and then calculate the median for the top half and bottom half, which would then be quartiles 1 and 3.\n",
    "\n",
    "In the case of an even scenario, calculating the median is a bit more complex but we don't have to remove the value from the list because it's not in the list. In this case, we can simply get the median for the bottom and top half of the list, which would be quartiles 1 and 3."
   ]
  },
  {
   "cell_type": "code",
   "execution_count": 19,
   "metadata": {},
   "outputs": [],
   "source": [
    "if N % 2 != 0:\n",
    "#odd scenario first\n",
    "#remove median from the list\n",
    "#get the length of the bottom and top half of the list\n",
    "#subset on the bottom half for Q1 list, and top for Q3 list\n",
    "#use the median function we defined to get quartiles\n",
    "    med = X[N//2]\n",
    "    X.remove(med)\n",
    "    qlen1 = len(X)//2\n",
    "    qlen3 = 2*(len(X)//2)\n",
    "    q1 = X[0:qlen1]\n",
    "    q3 = X[qlen1:qlen3]\n",
    "    Q1 = median(q1, len(q1))\n",
    "    Q2 = med\n",
    "    Q3 = median(q3, len(q3))\n",
    "else:\n",
    "#even scenario\n",
    "#get the length of the bottom and top half of the list\n",
    "#subset on the bottom half for Q1 list, and top for Q3 list\n",
    "#use the median function we defined to get quartiles\n",
    "    median1 = X[N//2]\n",
    "    median2 = X[N//2 - 1]\n",
    "    med = (median1 + median2)/2\n",
    "    qlen1 = len(X)//2\n",
    "    qlen3 = 2*(len(X)//2)\n",
    "    q1 = X[0:qlen1]\n",
    "    q3 = X[qlen1:qlen3]\n",
    "    Q1 = median(q1, len(q1))\n",
    "    Q2 = med\n",
    "    Q3 = median(q3, len(q3))"
   ]
  },
  {
   "cell_type": "markdown",
   "metadata": {},
   "source": [
    "The last step is simple. Print the IQR by subtracting Q1 from Q3 and we are done."
   ]
  },
  {
   "cell_type": "code",
   "execution_count": 22,
   "metadata": {},
   "outputs": [
    {
     "name": "stdout",
     "output_type": "stream",
     "text": [
      "30.0\n"
     ]
    }
   ],
   "source": [
    "print(round(float(Q3) - float(Q1),1))"
   ]
  }
 ],
 "metadata": {
  "kernelspec": {
   "display_name": "Python 3",
   "language": "python",
   "name": "python3"
  },
  "language_info": {
   "codemirror_mode": {
    "name": "ipython",
    "version": 3
   },
   "file_extension": ".py",
   "mimetype": "text/x-python",
   "name": "python",
   "nbconvert_exporter": "python",
   "pygments_lexer": "ipython3",
   "version": "3.7.6"
  }
 },
 "nbformat": 4,
 "nbformat_minor": 4
}

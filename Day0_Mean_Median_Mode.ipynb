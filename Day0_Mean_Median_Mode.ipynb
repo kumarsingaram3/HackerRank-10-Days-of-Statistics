{
 "cells": [
  {
   "cell_type": "markdown",
   "metadata": {},
   "source": [
    "### Task\n",
    "\n",
    "Given an array, X, of N integers, calculate and print the respective mean, median, and mode on separate lines. If your array contains more than one modal value, choose the numerically smallest one. More detail on the problem statement can be found here:\n",
    "\n",
    "https://www.hackerrank.com/challenges/s10-basic-statistics/problem"
   ]
  },
  {
   "cell_type": "markdown",
   "metadata": {},
   "source": [
    "We can use numpy and scipy for this problem, making it relatively simple. Let's important these packages first."
   ]
  },
  {
   "cell_type": "code",
   "execution_count": 2,
   "metadata": {},
   "outputs": [],
   "source": [
    "import numpy as np\n",
    "from scipy import stats"
   ]
  },
  {
   "cell_type": "code",
   "execution_count": 6,
   "metadata": {},
   "outputs": [],
   "source": [
    "#feed input\n",
    "\n",
    "N = 6\n",
    "X = [1, 2, 3, 4, 5, 5]"
   ]
  },
  {
   "cell_type": "markdown",
   "metadata": {},
   "source": [
    "The mean is calculated by summing the values in a data set and dividing by the count of samples in the data set. The median is calculated by find the middle value in a data set. The formula differs for odd and even sample counts. In the case of an even sample count, we must average the two middle values rather just taking the middle value like we would in the odd case. The mode is the simplest of the three to calculate. We just have to pull the element most common in the data set."
   ]
  },
  {
   "cell_type": "code",
   "execution_count": 7,
   "metadata": {},
   "outputs": [
    {
     "name": "stdout",
     "output_type": "stream",
     "text": [
      "3.3\n",
      "3.5\n",
      "5.0\n"
     ]
    }
   ],
   "source": [
    "#sum list X and divide by count to get mean\n",
    "#use numpy to find median\n",
    "#use scipy stats to get the mode of the list\n",
    "\n",
    "mean = sum(X)/N    \n",
    "median = np.median(X)\n",
    "mode = int(stats.mode(X)[0])\n",
    "\n",
    "print(round(float(mean),1))\n",
    "print(round(float(median), 1))\n",
    "print(round(float(mode), 1))"
   ]
  }
 ],
 "metadata": {
  "kernelspec": {
   "display_name": "Python 3",
   "language": "python",
   "name": "python3"
  },
  "language_info": {
   "codemirror_mode": {
    "name": "ipython",
    "version": 3
   },
   "file_extension": ".py",
   "mimetype": "text/x-python",
   "name": "python",
   "nbconvert_exporter": "python",
   "pygments_lexer": "ipython3",
   "version": "3.7.6"
  }
 },
 "nbformat": 4,
 "nbformat_minor": 4
}

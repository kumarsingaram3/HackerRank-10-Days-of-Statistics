{
 "cells": [
  {
   "cell_type": "markdown",
   "metadata": {},
   "source": [
    "### Task\n",
    "\n",
    "Given an array, X, of n integers, calculate the respective first quartile (Q1), second quartile (Q2), and third quartile (Q3). It is guaranteed that Q1, Q2, and Q3 are integers. More detail on the task can be found below:\n",
    "\n",
    "https://www.hackerrank.com/challenges/s10-quartiles/problem"
   ]
  },
  {
   "cell_type": "markdown",
   "metadata": {},
   "source": [
    "First let's feed the input given to us in the problem set. We want to make sure we sort the list too."
   ]
  },
  {
   "cell_type": "code",
   "execution_count": 9,
   "metadata": {},
   "outputs": [],
   "source": [
    "#input\n",
    "\n",
    "N = 9\n",
    "X = [3, 7, 8, 5, 12, 14, 21, 13, 18]"
   ]
  },
  {
   "cell_type": "code",
   "execution_count": 10,
   "metadata": {},
   "outputs": [],
   "source": [
    "#sorted X\n",
    "\n",
    "X = sorted(X)"
   ]
  },
  {
   "cell_type": "markdown",
   "metadata": {},
   "source": [
    "To calculate quartiles, we need to calculate three different medians, one for each quartile. If a data set has an odd number of elements, the median is a single value that is Q2. If it's even, the median is the average of the two middle values. This means that we need to treat the two possible input scenarios differently. First let's build a median function that we can use in the step after to calculate quartiles."
   ]
  },
  {
   "cell_type": "code",
   "execution_count": 11,
   "metadata": {},
   "outputs": [],
   "source": [
    "#define median\n",
    "#set even scenario\n",
    "#set odd scenario\n",
    "\n",
    "def median(X, N):\n",
    "    if N % 2 == 0:\n",
    "        median1 = X[N//2]\n",
    "        median2 = X[N//2 - 1]\n",
    "        median = (median1 + median2)/2\n",
    "    else:\n",
    "        median = X[N//2]\n",
    "    return median"
   ]
  },
  {
   "cell_type": "markdown",
   "metadata": {},
   "source": [
    "Similar to how the median function has two scenarios, we can do the same to calculate the quartiles. The if-else statement below starts with an odd scenario and then defaults to an even scenario if the odd scenario is not true for the input provided.\n",
    "\n",
    "In the case of an odd scenario, the median is a single value, which we can simply remove from the list and then calculate the median for the top half and bottom half, which would then be quartiles 1 and 3.\n",
    "\n",
    "In the case of an even scenario, calculating the median is a bit more complex but we don't have to remove the value from the list because it's not in the list. In this case, we can simply get the median for the bottom and top half of the list, which would be quartiles 1 and 3."
   ]
  },
  {
   "cell_type": "code",
   "execution_count": 12,
   "metadata": {},
   "outputs": [],
   "source": [
    "if N % 2 != 0:\n",
    "#odd scenario first\n",
    "#remove median from the list\n",
    "#get the length of the bottom and top half of the list\n",
    "#subset on the bottom half for Q1 list, and top for Q3 list\n",
    "#use the median function we defined to get quartiles\n",
    "    med = X[N//2]\n",
    "    X.remove(med)\n",
    "    qlen1 = len(X)//2\n",
    "    qlen3 = 2*(len(X)//2)\n",
    "    q1 = X[0:qlen1]\n",
    "    q3 = X[qlen1:qlen3]\n",
    "    Q1 = median(q1, len(q1))\n",
    "    Q2 = med\n",
    "    Q3 = median(q3, len(q3))\n",
    "else:\n",
    "#even scenario\n",
    "#get the length of the bottom and top half of the list\n",
    "#subset on the bottom half for Q1 list, and top for Q3 list\n",
    "#use the median function we defined to get quartiles\n",
    "    median1 = X[N//2]\n",
    "    median2 = X[N//2 - 1]\n",
    "    med = (median1 + median2)/2\n",
    "    qlen1 = len(X)//2\n",
    "    qlen3 = 2*(len(X)//2)\n",
    "    q1 = X[0:qlen1]\n",
    "    q3 = X[qlen1:qlen3]\n",
    "    Q1 = median(q1, len(q1))\n",
    "    Q2 = med\n",
    "    Q3 = median(q3, len(q3))"
   ]
  },
  {
   "cell_type": "code",
   "execution_count": 14,
   "metadata": {},
   "outputs": [
    {
     "name": "stdout",
     "output_type": "stream",
     "text": [
      "6.0\n",
      "12.0\n",
      "16.0\n"
     ]
    }
   ],
   "source": [
    "print(float(Q1))\n",
    "print(float(Q2))\n",
    "print(float(Q3))"
   ]
  }
 ],
 "metadata": {
  "kernelspec": {
   "display_name": "Python 3",
   "language": "python",
   "name": "python3"
  },
  "language_info": {
   "codemirror_mode": {
    "name": "ipython",
    "version": 3
   },
   "file_extension": ".py",
   "mimetype": "text/x-python",
   "name": "python",
   "nbconvert_exporter": "python",
   "pygments_lexer": "ipython3",
   "version": "3.7.6"
  }
 },
 "nbformat": 4,
 "nbformat_minor": 4
}

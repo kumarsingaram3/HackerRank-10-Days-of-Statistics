{
 "cells": [
  {
   "cell_type": "markdown",
   "metadata": {},
   "source": [
    "### Task\n",
    "\n",
    "Given an array, X, of N integers, calculate and print the standard deviation. Your answer should be in decimal form, rounded to a scale of 1 decimal place (i.e., 12.3 format). An error margin of +- 0.1 will be tolerated for the standard deviation. More detail about the problem statement can be found here:\n",
    "\n",
    "https://www.hackerrank.com/challenges/s10-standard-deviation/problem"
   ]
  },
  {
   "cell_type": "markdown",
   "metadata": {},
   "source": [
    "**Intro**\n",
    "\n",
    "After feeding in the input, to find the standard deviation of a data set, we need to calculate the mean first. Then using the mean, we can now subtract it from each value in the data set, square each result, divide by the sample size N, and then take the square root of the result. This gets us the standard deviation. To implement this in code, we can use the math library to access the square root function easily."
   ]
  },
  {
   "cell_type": "code",
   "execution_count": 20,
   "metadata": {},
   "outputs": [],
   "source": [
    "import math\n",
    "\n",
    "N = 5\n",
    "X = [10, 40, 30, 50, 20]"
   ]
  },
  {
   "cell_type": "code",
   "execution_count": 21,
   "metadata": {},
   "outputs": [
    {
     "name": "stdout",
     "output_type": "stream",
     "text": [
      "14.1\n"
     ]
    }
   ],
   "source": [
    "mean = sum(X)/N\n",
    "stdev = math.sqrt(sum([(i - mean)**2 for i in X])/N)\n",
    "print(round(stdev,1))"
   ]
  }
 ],
 "metadata": {
  "kernelspec": {
   "display_name": "Python 3",
   "language": "python",
   "name": "python3"
  },
  "language_info": {
   "codemirror_mode": {
    "name": "ipython",
    "version": 3
   },
   "file_extension": ".py",
   "mimetype": "text/x-python",
   "name": "python",
   "nbconvert_exporter": "python",
   "pygments_lexer": "ipython3",
   "version": "3.7.6"
  }
 },
 "nbformat": 4,
 "nbformat_minor": 4
}
